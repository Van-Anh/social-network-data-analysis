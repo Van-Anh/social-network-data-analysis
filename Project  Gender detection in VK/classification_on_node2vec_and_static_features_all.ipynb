{
 "cells": [
  {
   "cell_type": "markdown",
   "metadata": {},
   "source": [
    "# Classification based on node2vec embeddings and static features"
   ]
  },
  {
   "cell_type": "code",
   "execution_count": 1,
   "metadata": {},
   "outputs": [],
   "source": [
    "import pickle\n",
    "import numpy as np"
   ]
  },
  {
   "cell_type": "markdown",
   "metadata": {},
   "source": [
    "### Train-test split"
   ]
  },
  {
   "cell_type": "code",
   "execution_count": 16,
   "metadata": {},
   "outputs": [
    {
     "name": "stdout",
     "output_type": "stream",
     "text": [
      "27525\n",
      "27525\n",
      "103\n"
     ]
    }
   ],
   "source": [
    "# Retrieve node embeddings and corresponding subjects\n",
    "from gensim.models import KeyedVectors\n",
    "model = KeyedVectors.load('word2vec_all.emb')\n",
    "node_embeddings = []\n",
    "node_targets = []\n",
    "with open('train_data_all.pickle', 'rb') as f:\n",
    "    train_data = pickle.load(f)\n",
    "    f.close()\n",
    "with open('train_index_all.pickle', 'rb') as f:\n",
    "    list_index = pickle.load(f)\n",
    "    f.close()\n",
    "with open('train_target_all.pickle', 'rb') as f:\n",
    "    list_target = pickle.load(f)\n",
    "    f.close()\n",
    "for idx in list(model.wv.vocab):\n",
    "    if list(list_index).index(int(idx)):\n",
    "        index = list(list_index).index(int(idx))\n",
    "        list_data_vector = np.concatenate((list(model.wv.get_vector(idx)), train_data[index])) \n",
    "        node_embeddings.append(list_data_vector)\n",
    "        node_targets.append(list_target[index])\n",
    "print(len(node_targets))\n",
    "print(len(node_embeddings))\n",
    "print(len(train_data[index]))"
   ]
  },
  {
   "cell_type": "code",
   "execution_count": 17,
   "metadata": {},
   "outputs": [],
   "source": [
    "# X will hold the 128-dimensional input features\n",
    "X = node_embeddings\n",
    "# y holds the corresponding target values\n",
    "y = np.array(node_targets)"
   ]
  },
  {
   "cell_type": "code",
   "execution_count": 18,
   "metadata": {},
   "outputs": [],
   "source": [
    "from sklearn.model_selection import train_test_split\n",
    "import numpy as np"
   ]
  },
  {
   "cell_type": "code",
   "execution_count": 19,
   "metadata": {},
   "outputs": [],
   "source": [
    "def create_train_test_split(X, y):\n",
    "    X_train, X_test, y_train, y_test = train_test_split(X, y, test_size = 0.2, stratify = y, random_state = 42)\n",
    "    print(\"Train size:\", len(X_train))\n",
    "    print(\"Test size:\", len(X_test))\n",
    "    print(\"Classes ratio:\", np.mean(y_train))\n",
    "    return X_train, X_test, y_train, y_test"
   ]
  },
  {
   "cell_type": "code",
   "execution_count": 20,
   "metadata": {},
   "outputs": [
    {
     "name": "stdout",
     "output_type": "stream",
     "text": [
      "Train size: 22020\n",
      "Test size: 5505\n",
      "Classes ratio: 0.48555858310626704\n"
     ]
    }
   ],
   "source": [
    "X_train, X_test, y_train, y_test = create_train_test_split(X, y)"
   ]
  },
  {
   "cell_type": "code",
   "execution_count": 21,
   "metadata": {},
   "outputs": [
    {
     "name": "stderr",
     "output_type": "stream",
     "text": [
      "IOPub data rate exceeded.\n",
      "The notebook server will temporarily stop sending output\n",
      "to the client in order to avoid crashing it.\n",
      "To change this limit, set the config variable\n",
      "`--NotebookApp.iopub_data_rate_limit`.\n",
      "\n",
      "Current values:\n",
      "NotebookApp.iopub_data_rate_limit=1000000.0 (bytes/sec)\n",
      "NotebookApp.rate_limit_window=3.0 (secs)\n",
      "\n"
     ]
    }
   ],
   "source": [
    "from sklearn import preprocessing\n",
    "print(X_train)\n",
    "scaler = preprocessing.StandardScaler().fit(X_train)\n",
    "\n",
    "X_train = scaler.transform(X_train)\n",
    "X_test = scaler.transform(X_test)"
   ]
  },
  {
   "cell_type": "markdown",
   "metadata": {},
   "source": [
    "### Sklearn classification models - learn from scratch"
   ]
  },
  {
   "cell_type": "code",
   "execution_count": 22,
   "metadata": {},
   "outputs": [],
   "source": [
    "from sklearn.linear_model import LogisticRegression\n",
    "from sklearn.svm import SVC\n",
    "from sklearn.ensemble import RandomForestClassifier\n",
    "from sklearn.model_selection import GridSearchCV\n",
    "from sklearn.metrics import classification_report"
   ]
  },
  {
   "cell_type": "code",
   "execution_count": 23,
   "metadata": {},
   "outputs": [],
   "source": [
    "models_to_consider = [(\"LogReg\", \n",
    "                       LogisticRegression(class_weight = \"balanced\", max_iter = 10000), \n",
    "                       {\"solver\" : (\"lbfgs\",),\n",
    "                        'C':[1, 5, 10]}),\n",
    "                      (\"RandomForestClassifier\", \n",
    "                       RandomForestClassifier(class_weight = \"balanced\"), \n",
    "                       {\"n_estimators\":[10, 50, 100]})]"
   ]
  },
  {
   "cell_type": "code",
   "execution_count": 24,
   "metadata": {},
   "outputs": [],
   "source": [
    "def learn_and_compute_results(models_to_consider, X_train, X_test, y_train, y_test, \n",
    "                              print_classification_report = False):\n",
    "    res = dict()\n",
    "    for (model_name, model, model_params) in models_to_consider:\n",
    "        clf = GridSearchCV(model, model_params, cv = 5, scoring = 'roc_auc')\n",
    "        clf.fit(X_train, y_train)\n",
    "        res[model_name] = clf.score(X_test, y_test)\n",
    "        print(model_name, \"test ROC AUC:\", res[model_name])\n",
    "        if print_classification_report:\n",
    "            y_pred = clf.predict(X_test)\n",
    "            print(classification_report(y_test, y_pred))\n",
    "    return res"
   ]
  },
  {
   "cell_type": "code",
   "execution_count": 25,
   "metadata": {},
   "outputs": [
    {
     "name": "stdout",
     "output_type": "stream",
     "text": [
      "LogReg test ROC AUC: 0.9947638923235284\n",
      "RandomForestClassifier test ROC AUC: 0.9922597760403787\n"
     ]
    },
    {
     "data": {
      "text/plain": [
       "{'LogReg': 0.9947638923235284, 'RandomForestClassifier': 0.9922597760403787}"
      ]
     },
     "execution_count": 25,
     "metadata": {},
     "output_type": "execute_result"
    }
   ],
   "source": [
    "learn_and_compute_results(models_to_consider, X_train, X_test, y_train, y_test)"
   ]
  },
  {
   "cell_type": "markdown",
   "metadata": {},
   "source": [
    "### Combine classification models for node2vec and on static features"
   ]
  },
  {
   "cell_type": "code",
   "execution_count": 26,
   "metadata": {},
   "outputs": [],
   "source": [
    "with open('best_node2vec_model_all.pickle', \"rb\") as f:\n",
    "    clf_node2vec = pickle.load(f)"
   ]
  },
  {
   "cell_type": "code",
   "execution_count": 27,
   "metadata": {},
   "outputs": [],
   "source": [
    "with open('best_static_model_all.pickle', \"rb\") as f:\n",
    "    clf_static = pickle.load(f)"
   ]
  },
  {
   "cell_type": "code",
   "execution_count": 30,
   "metadata": {},
   "outputs": [
    {
     "name": "stdout",
     "output_type": "stream",
     "text": [
      "(22020, 231)\n",
      "(5505, 231)\n"
     ]
    }
   ],
   "source": [
    "print(np.array(X_train).shape)\n",
    "print(np.array(X_test).shape)\n",
    "X_train_static = clf_static[\"scaler\"].transform(X_train[:, :103])\n",
    "X_train_node2vec = X_train[:, 103:]\n",
    "X_test_static = clf_static[\"scaler\"].transform(X_test[:, :103])\n",
    "X_test_node2vec = X_test[:,  103:]"
   ]
  },
  {
   "cell_type": "code",
   "execution_count": 31,
   "metadata": {},
   "outputs": [
    {
     "name": "stdout",
     "output_type": "stream",
     "text": [
      "Pretrained static model ROC AUC:  0.5385171023902976\n",
      "Pretrained node2vec model ROC AUC:  0.5186194368755677\n"
     ]
    }
   ],
   "source": [
    "print(\"Pretrained static model ROC AUC: \", clf_static[\"classifier\"].score(X_test_static, y_test))\n",
    "print(\"Pretrained node2vec model ROC AUC: \", clf_node2vec.score(X_test_node2vec, y_test))"
   ]
  },
  {
   "cell_type": "code",
   "execution_count": 32,
   "metadata": {},
   "outputs": [],
   "source": [
    "train_node2vec_proba = clf_node2vec.predict_proba(X_train_node2vec)\n",
    "train_static_proba = clf_static[\"classifier\"].predict_proba(X_train_static)\n",
    "test_node2vec_proba = clf_node2vec.predict_proba(X_test_node2vec)\n",
    "test_static_proba = clf_static[\"classifier\"].predict_proba(X_test_static)"
   ]
  },
  {
   "cell_type": "code",
   "execution_count": 33,
   "metadata": {},
   "outputs": [],
   "source": [
    "train_concat = np.vstack([train_node2vec_proba[:,0], train_static_proba[:,0]]).T\n",
    "test_concat = np.vstack([test_node2vec_proba[:,0], test_static_proba[:,0]]).T"
   ]
  },
  {
   "cell_type": "code",
   "execution_count": 34,
   "metadata": {},
   "outputs": [],
   "source": [
    "models_to_consider = [(\"LogReg\", \n",
    "                       LogisticRegression(class_weight = \"balanced\", max_iter = 1000), \n",
    "                       {\"solver\" : (\"lbfgs\",),\n",
    "                        'C':[1, 5, 10]}),\n",
    "                      (\"RandomForestClassifier\", \n",
    "                       RandomForestClassifier(class_weight = \"balanced\"), \n",
    "                       {\"n_estimators\":[10, 50, 100]})]"
   ]
  },
  {
   "cell_type": "code",
   "execution_count": 35,
   "metadata": {},
   "outputs": [
    {
     "name": "stdout",
     "output_type": "stream",
     "text": [
      "LogReg\n",
      "Best ROC AUC:  0.5523888180824779\n",
      "RandomForestClassifier\n",
      "Best ROC AUC:  0.5454943080100016\n"
     ]
    }
   ],
   "source": [
    "res = dict()\n",
    "clf_grid = dict()\n",
    "\n",
    "for (model_name, model, model_params) in models_to_consider:\n",
    "    print(model_name)\n",
    "    clf_grid[model_name] = GridSearchCV(model, model_params, cv = 5, scoring = 'roc_auc')\n",
    "    clf_grid[model_name].fit(train_concat, y_train)\n",
    "    y_pred = clf_grid[model_name].predict(test_concat)\n",
    "    print(\"Best ROC AUC: \", clf_grid[model_name].score(test_concat, y_test))"
   ]
  },
  {
   "cell_type": "code",
   "execution_count": null,
   "metadata": {},
   "outputs": [],
   "source": []
  }
 ],
 "metadata": {
  "kernelspec": {
   "display_name": "Python 3",
   "language": "python",
   "name": "python3"
  },
  "language_info": {
   "codemirror_mode": {
    "name": "ipython",
    "version": 3
   },
   "file_extension": ".py",
   "mimetype": "text/x-python",
   "name": "python",
   "nbconvert_exporter": "python",
   "pygments_lexer": "ipython3",
   "version": "3.7.4"
  }
 },
 "nbformat": 4,
 "nbformat_minor": 2
}
